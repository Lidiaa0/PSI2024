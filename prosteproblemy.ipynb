{
  "nbformat": 4,
  "nbformat_minor": 0,
  "metadata": {
    "colab": {
      "provenance": []
    },
    "kernelspec": {
      "name": "python3",
      "display_name": "Python 3"
    },
    "language_info": {
      "name": "python"
    }
  },
  "cells": [
    {
      "cell_type": "code",
      "execution_count": null,
      "metadata": {
        "id": "vbX9vMpftzY_"
      },
      "outputs": [],
      "source": []
    },
    {
      "cell_type": "markdown",
      "source": [
        "Zadanie 1\n",
        "Wymaga inteligencji\n",
        "streszczanie tekstu, tłumaczenie tekstu - wymaga od nas zrozumienia pojęć, kontekstu, tworzenia nowych stwierdzeń. Streszczanie wymaga również kreatywnego, twórczego myślenia - które sprowadzi nas do kolkluzji z długiego tekstu\n",
        "układanie rozkładu jazdy transportu miejskiego - jest to intelignetne ponieważ łączymy różne informacje i tworzymy z tego jakieś nowe sieci połączeń, nowe drogi\n",
        "komponowanie muzyki - jeśli mówimy o muzyce np. klasycznej jest to zdecydowanie inteligentne zadanie, ponieważ jest to twórcze układanie nut w pewną brzmienną całość - często tworzenie melodii, które jeszcze nie istniały więc jest to twórcze, a zatem inteligentne\n",
        "symboliczne całkowanie funkcji - \"używanie sztuczek do rozwiązania\"\n",
        "kierowanie samochodem - kierowanie sumienne i zgodne z zasadami jazdy wymusza w nas przewidywanie i myślenie na przód, a więc nie jest schematyczne ponieważ musimy dostosowywać nas do otoczenia względem warunków\n",
        "\n",
        "\n",
        "Nie wymaga inteligencji\n",
        "wypełnianie deklaracji PIT - mamy określone \"punkty\" do wykonania, intuicyjne, odpowiadanie na pytania bez kreatywnego myślenia\n",
        "\n",
        "klasyfikacja tekstu do kategorii tematycznych - odtwórcze, istnieją słowa kluczowe i pewien schemat działania - dopasowujemy według konkretnych zasad\n",
        "\n",
        "odpowiadanie na proste pytania -\n",
        "wyłapujemy słowa kluczowe, smalltalk, nie wymaga od nas myślenia na poziomie wytwarzania kreatywnych, twórczych zdań\n",
        "\n",
        "\"programowanie kanałów telewizyjnych\" - mamy określone np. cyferki pod które w schematyczny sposób przypisujemy kanał telewizyjny\n",
        "\n",
        "symboliczne obliczanie pochodnych funkcji - mamy schematy według, których obliczamy zadania\n",
        "\n",
        "polemizacyjne:\n",
        "programowanie - na poziomie początkującym wykonuje się określone komendy, działania, prowadzące do rozwiązania, jednak kiedy chcemy stworzyć bardziej skomplikowany i długi program, który np nie istnieje musimy użyć inteligentnego myślenia\n",
        "\n",
        "Zad 2\n",
        "zaliczna do AI:\n",
        "\n",
        "streszczenie tekstu - wymaga analizy, przeszukiwnia słów kluczowych, tworzenie nowego spójnego tworu - jest to przetwarzanie języka naturalnego\n",
        "\n",
        "tłumaczenie tekstu - wymaga analizy, znajomości sposobu tłumaczenia, specyfiki niektórych przypadków, zrozumienie i generowanie i przetwarzanie języka naturalnego\n",
        "\n",
        "klasyfikacja do kategorii tematycznych - znajmość kategorii i umiejętność przyporządkowania według określonych reguł\n",
        "\n",
        "\n",
        "układanie rozkładu jazdy - zoptymalizowane układanie np na podstawie innych rozkładów jazdy\n",
        "\n",
        "kierowanie samochodem - kontrola otaczjącego środowiska, wyczuwanie, analiza przestrzeni, podejmowanie decyzji w czasie rzeczywistym - mamy już takie pojazdy\n",
        "\n",
        "\"nie\" mieszczą się:\n",
        "\n",
        "rozwiązywanie układów równań - schematyczne, według określonych matematycznych reguł, które nie wymagają od nas inteligentnej aktywności, którą cechuje AI\n",
        "\n",
        "rozwiązywanie układów liniowych - również istnieje pewien schemat, kroki które doprowadzają nas do celu\n",
        "\n",
        "symboliczne obliczanie pochodnych - AI pracuje na symbolach i ich odczytywaniu, jednak jest to zadanje schematyczne, które nie wymaga twórczego myślenia, aby obliczyć - jest to pewna zasada, którą trzeba się kierować aby obliczyć.\n",
        "\n",
        "AI na pewno ułatawia i usprawnia takie działania, ale nie są one wymagane w kontekscie inteligentnego - twórczego, kreatywnego działania, dopiero na poziomie trudnych i skomplikowanych, długich działań, które mają nieoczywiste rozwiązania, bądź łączą więcej dziedziń będzie wymagana inteligencja\n",
        "\n",
        "Zad 3\n",
        "rozmowa towarzyska - smalltalk - proste schematy, łatwe do zaprogramowania, rozmowa na zasadzie \"jaka jest pogoda\" - na takie pytania łatwo zaprogramować odpowiedzi\n",
        "\n",
        "dyskusja polityczna - możliwość wgrania określonych modeli reprezentacji poglądów politycznych pozwala na przeprowadzanie z AI dyskusji na ten temat\n",
        "\n",
        "\n",
        "dyskusja naukowa - jeśli oprogramowane szeroko - duża ilość artykułów, szeroka, obiektywna baza danych, tak jest możliwa taka dyskuja\n",
        "\n",
        "odpowiadania na pytania klientów infolinia - schemat, robotyczne, konkretne odpowiedzi na słowa kluczowe\n",
        "\n",
        "\n",
        "\n",
        "\n"
      ],
      "metadata": {
        "id": "JDIvhZyDt61M"
      }
    }
  ]
}