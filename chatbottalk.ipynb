{
  "nbformat": 4,
  "nbformat_minor": 0,
  "metadata": {
    "colab": {
      "provenance": []
    },
    "kernelspec": {
      "name": "python3",
      "display_name": "Python 3"
    },
    "language_info": {
      "name": "python"
    }
  },
  "cells": [
    {
      "cell_type": "code",
      "execution_count": null,
      "metadata": {
        "id": "J3DkU_q0r0Y-"
      },
      "outputs": [],
      "source": []
    },
    {
      "cell_type": "markdown",
      "source": [
        "Zadanie robiłam na podstawie Cleverbot oraz Chatbot Ikea.\n",
        "\n",
        "W trakcie rozmowy z Cleverbot bardzo często ukazują się żartobliwe zdania. Reagował na trywialne żarty i sam potrafił przytoczyć inne. Bot był w stanie zacytować Shakespear’a jednak dalsza konwersacja odbiegała od prawdy. Słowa kluczowe jak i zadawanie wielu pytań powodowały bezsensowną rozmowę, która cechowała się dużą prostotą. Tematy cały czas ulegały zmianie(również kiedy ja zmieniałam temat), występował brak ciągłości konwersacji - tak jakby poprzednie wiadomości które zostały wysłane przez Bota nie były zapisywane w jego pamięci. Ogólnikowe odpowiedzi prowadziły do „frustracji i złości bota”. Powrócenie do początku konwersacji czy odniesienie do słów które padły nie było możliwe.\n",
        "\n",
        "Chatbot Ikea —> odpowiada tylko na problemy i pytania dotyczące Ikei. Ma określone schematy, dostępne przygotowane odpowiedzi, które mogłam wybrać. Odpowiada konkretnie na dany temat. Nie da się z nim prowadzić takiej konwersacji jak z botem udającym człowieka, ponieważ wszystko co wykracza poza jego schemat jest równe odesłaniem do miejsca dodatkowej „pomocy”, bądź komunikatem niezrozumienia.\n",
        "\n",
        "Na podstawie obu „rozmów” zauważyłam, że bot „asystent, służący” posiada ścisłe reguły oraz od góry określone zadania, przez co nie da się z nimi poruszyć tematów odrębnych od tych, na które został zaprogramowany. Boty udające człowieka są bardziej dynamiczne i dają możliwość przeprowadzania prostej rozmowy, którą cechuje niestety duża chaotyczność."
      ],
      "metadata": {
        "id": "6d4ZK_-Mr7BR"
      }
    }
  ]
}