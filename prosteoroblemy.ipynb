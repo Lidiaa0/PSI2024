{
  "nbformat": 4,
  "nbformat_minor": 0,
  "metadata": {
    "colab": {
      "provenance": []
    },
    "kernelspec": {
      "name": "python3",
      "display_name": "Python 3"
    },
    "language_info": {
      "name": "python"
    }
  },
  "cells": [
    {
      "cell_type": "code",
      "execution_count": null,
      "metadata": {
        "id": "vbX9vMpftzY_"
      },
      "outputs": [],
      "source": []
    },
    {
      "cell_type": "markdown",
      "source": [
        "Zadanie 1\n",
        "Wymaga inteligencji\n",
        "streszczanie tekstu, tłumaczenie tekstu - wymaga od nas zrozumienia pojęć, kontekstu, tworzenia nowych stwierdzeń. Streszczanie wymaga również kreatywnego, twórczego myślenia - które sprowadzi nas do kolkluzji z długiego tekstu\n",
        "układanie rozkładu jazdy transportu miejskiego - jest to intelignetne ponieważ łączymy różne informacje i tworzymy z tego jakieś nowe sieci połączeń, nowe drogi\n",
        "komponowanie muzyki - jeśli mówimy o muzyce np. klasycznej jest to zdecydowanie inteligentne zadanie, ponieważ jest to twórcze układanie nut w pewną brzmienną całość - często tworzenie melodii, które jeszcze nie istniały więc jest to twórcze, a zatem inteligentne\n",
        "symboliczne całkowanie funkcji - \"używanie sztuczek do rozwiązania\"\n",
        "kierowanie samochodem - kierowanie sumienne i zgodne z zasadami jazdy wymusza w nas przewidywanie i myślenie na przód, a więc nie jest schematyczne ponieważ musimy dostosowywać nas do otoczenia względem warunków\n",
        "\n",
        "\n",
        "Nie wymaga inteligencji\n",
        "wypełnianie deklaracji PIT - mamy określone \"punkty\" do wykonania, intuicyjne, odpowiadanie na pytania bez kreatywnego myślenia\n",
        "klasyfikacja tekstu do kategorii tematycznych - odtwórcze, istnieją słowa kluczowe i pewien schemat działania - dopasowujemy według konkretnych zasad\n",
        "odpowiadanie na proste pytania -\n",
        "wyłapujemy słowa kluczowe, smalltalk, nie wymaga od nas myślenia na poziomie wytwarzania kreatywnych, twórczych zdań\n",
        "\"programowanie kanałów telewizyjnych\" - mamy określone np. cyferki pod które w schematyczny sposób przypisujemy kanał telewizyjny\n",
        "symboliczne obliczanie pochodnych funkcji - mamy schematy według, których obliczamy zadania\n",
        "\n",
        "polemizacyjne:\n",
        "programowanie - na poziomie początkującym wykonuje się pewne określone komendy, działania, które prowadzą nas do rozwiązania, jednak kiedy chcemy stworzyć nasze nowe programy, które np nie istnieją musimy użyć inteligentnego myślenia\n",
        "\n",
        "Zad 2\n",
        "zaliczna do AI:\n",
        "\n",
        "streszczenie tekstu - wymaga analizy, przeszukiwnia słów kluczowych itp\n",
        "przetwarzanie języka naturalnego\n",
        "\n",
        "tłumaczenie tekstu - wymaga analizy, znajomości sposobu tłumaczenia, specyfiki niektórych przypadków, zrozumienie i generowanie języka\n",
        "przetwarzanie języka naturalnego\n",
        "\n",
        "klasyfikacja do kategorii tematycznych - znajmość kategorii i umiejętność przyporządkowania według określonych reguł\n",
        "\n",
        "\n",
        "układanie rozkładu jazdy - zoptymalizowane układanie np na podstawie innych rozkładów jazdy\n",
        "\n",
        "kierowanie samochodem - kontrola otaczjącego środowiska, wyczuwanie, analiza przestrzeni, podejmowanie decyzji w czasie rzeczywistym - mamy już takie pojazdy\n",
        "\n",
        "nie mieszczą się\n",
        "\n",
        "rozwiązywanie układów równiań - schematyczne, według określonych matematycznych reguł\n",
        "\n",
        "rozwiązywanie układów liniowych - również istnieje pewien schemat, kroki które doprowadzają nas do celu\n",
        "\n",
        "symboliczne obliczanie pochodnych - symboliczne oznacza, że są pewne określone symbole oznaczjące jakieś \"ruchy\" nie ma w tym twórczego obliczania\n",
        "\n",
        "AI na pewno ułatawia i usprawnia takie działania, ale nie są one wymagane w kontekscie inteligentnego - twórczego, kreatywnego działania\n",
        "\n",
        "Zad 3\n",
        "rozmowa towarzyska - smalltalk - proste schematy, łatwe do zaprogramowania\n",
        "\n",
        "dyskusja polityczna - możliwość wgrania określonych modeli reprezentacji poglądów politycznych\n",
        "dyskusja naukowa - jeśli oprogramowane szeroko - duża ilość artykułów, szeroka, obiektywna baza danych\n",
        "\n",
        "odpowiadania na pytania klientów infolinia - schemat, robotyczne, konkretne odpowiedzi na słowa kluczowe\n",
        "\n",
        "\n",
        "\n",
        "\n"
      ],
      "metadata": {
        "id": "JDIvhZyDt61M"
      }
    }
  ]
}