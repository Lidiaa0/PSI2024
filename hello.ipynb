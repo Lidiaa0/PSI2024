{
  "nbformat": 4,
  "nbformat_minor": 0,
  "metadata": {
    "colab": {
      "provenance": []
    },
    "kernelspec": {
      "name": "python3",
      "display_name": "Python 3"
    },
    "language_info": {
      "name": "python"
    }
  },
  "cells": [
    {
      "cell_type": "code",
      "execution_count": 3,
      "metadata": {
        "id": "pQI1weK8gnbQ",
        "colab": {
          "base_uri": "https://localhost:8080/"
        },
        "outputId": "4464aa19-5340-4171-c0c1-14be50e09a8c"
      },
      "outputs": [
        {
          "output_type": "stream",
          "name": "stdout",
          "text": [
            "hello world\n"
          ]
        }
      ],
      "source": [
        "print ('hello world')"
      ]
    },
    {
      "cell_type": "markdown",
      "source": [
        "chateria [link text](https://google.com)"
      ],
      "metadata": {
        "id": "2YseVBk8iTfK"
      }
    }
  ]
}
